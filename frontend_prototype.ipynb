{
 "cells": [
  {
   "cell_type": "code",
   "execution_count": 1,
   "id": "87408314",
   "metadata": {},
   "outputs": [],
   "source": [
    "# Copyright 2022 Michael Govaerts, Anike Braun, and Abigail Harrison\n",
    "\n",
    "# Permission is hereby granted, free of charge, to any person obtaining a copy of this software and associated \n",
    "# documentation files (the \"Software\"), to deal in the Software without restriction, including without limitation \n",
    "# the rights to use, copy, modify, merge, publish, distribute, sublicense, and/or sell copies of the Software, \n",
    "# and to permit persons to whom the Software is furnished to do so, subject to the following conditions:\n",
    "\n",
    "# The above copyright notice and this permission notice shall be included in all copies or substantial portions\n",
    "# of the Software.\n",
    "\n",
    "# THE SOFTWARE IS PROVIDED \"AS IS\", WITHOUT WARRANTY OF ANY KIND, EXPRESS OR IMPLIED, INCLUDING BUT NOT LIMITED\n",
    "# TO THE WARRANTIES OF MERCHANTABILITY, FITNESS FOR A PARTICULAR PURPOSE AND NONINFRINGEMENT. IN NO EVENT SHALL\n",
    "# THE AUTHORS OR COPYRIGHT HOLDERS BE LIABLE FOR ANY CLAIM, DAMAGES OR OTHER LIABILITY, WHETHER IN AN ACTION OF\n",
    "# CONTRACT, TORT OR OTHERWISE, ARISING FROM, OUT OF OR IN CONNECTION WITH THE SOFTWARE OR THE USE OR OTHER DEALINGS"
   ]
  },
  {
   "cell_type": "code",
   "execution_count": 2,
   "id": "956d0891",
   "metadata": {
    "tags": []
   },
   "outputs": [],
   "source": [
    "from lazy_backend import *\n",
    "import Election_Simulation\n",
    "\n",
    "# Import relevant libraries\n",
    "import numpy as np\n",
    "import random\n",
    "import json\n",
    "import os.path\n",
    "import sys\n",
    "from math import ceil\n",
    "import csv"
   ]
  },
  {
   "cell_type": "code",
   "execution_count": 3,
   "id": "c0439d31",
   "metadata": {
    "scrolled": true
   },
   "outputs": [
    {
     "name": "stdout",
     "output_type": "stream",
     "text": [
      "Election setup:\n",
      "CVR1 created\n",
      "Manifest created\n",
      "CVR2 created\n",
      "Tabulation created\n"
     ]
    }
   ],
   "source": [
    "if (os.path.exists(\"2020_CT_Election_Data.json\")):\n",
    "    #Imports JSON file with election population\n",
    "    inputFile = open(os.path.join(sys.path[0], \"2020_CT_Election_Data.json\"), \"r\")\n",
    "    jsonFile = json.load(inputFile)\n",
    "    if jsonFile is None:\n",
    "        print(\"Invalid Input Data: Please make sure the JSON file is in the directory!\")\n",
    "else:\n",
    "    jsonFile = None\n",
    "\n",
    "# 2022-07-29: Still need readInput to generate all the CVRs\n",
    "numBallots, overvotes1, undervotes1, overvotes2, undervotes2, riskLimit, num, margins, gamma = readInput()\n",
    "\n",
    "electionSetup(numBallots, margins, overvotes1, undervotes1, overvotes2, undervotes2, riskLimit, gamma, jsonFile)"
   ]
  },
  {
   "cell_type": "code",
   "execution_count": 4,
   "id": "563f368a",
   "metadata": {},
   "outputs": [],
   "source": [
    "#This deletes the subdirectory of lazy_rla_cvr which is where all temporary files are stored\n",
    "#You must use this code block right now.\n",
    "removeWorkingDir()"
   ]
  },
  {
   "cell_type": "code",
   "execution_count": 5,
   "id": "c24d216b",
   "metadata": {},
   "outputs": [
    {
     "name": "stdout",
     "output_type": "stream",
     "text": [
      "numBallots, winnerBallots, runnerupBallots, margin\n",
      "10000 5250 4750 5.000000000000004\n",
      "220 ballots to audit\n",
      "ballots selected from 187 different batches\n"
     ]
    }
   ],
   "source": [
    "## test2() from lazy_backend\n",
    "\n",
    "#This is the first seed from dice rolling ceremony, used to select batches\n",
    "#There will be a second seed used to select ballots\n",
    "seed1 = 2368607141\n",
    "selectedBatches = batchSelect('electionManifest.csv','electionTabulation.csv', seed1)"
   ]
  },
  {
   "cell_type": "code",
   "execution_count": 6,
   "id": "463d7365",
   "metadata": {},
   "outputs": [],
   "source": [
    "#In an actual audit skip this codeblock\n",
    "#this is used to populate fake CVR files using data from 2020 Presidential election in CT\n",
    "lazyCVR_files = lazyCVR_gen(selectedBatches['batchesToAudit'])"
   ]
  },
  {
   "cell_type": "code",
   "execution_count": 7,
   "id": "477dae3a",
   "metadata": {},
   "outputs": [],
   "source": [
    "#Second seed used to select ballots. Should be independent from first\n",
    "#and from dice rolling ceremony\n",
    "seed2 = 9113645654\n",
    "auditCVR_blank = ballotSelect(lazyCVR_files, selectedBatches['ballotsPerBatchAudit'], selectedBatches['ballotsPerBatchTotal'], seed2)"
   ]
  },
  {
   "cell_type": "code",
   "execution_count": 8,
   "id": "a30c03df",
   "metadata": {},
   "outputs": [],
   "source": [
    "#auditCVR_check is list of files with correct 'manual interpretations' filled out \n",
    "#this step not needed in a real audit, this is to run quickly\n",
    "auditCVR_check = ballotSelect_check(lazyCVR_files, selectedBatches['ballotsPerBatchAudit'], selectedBatches['ballotsPerBatchTotal'], seed2)"
   ]
  },
  {
   "cell_type": "code",
   "execution_count": 9,
   "id": "4a3b6505-b2c1-4f9e-8dcd-fc0dd5050f3c",
   "metadata": {},
   "outputs": [
    {
     "name": "stdout",
     "output_type": "stream",
     "text": [
      "risk level: 0.0135815923324989\n"
     ]
    }
   ],
   "source": [
    "#Calculate risk give ballots and discrepancies\n",
    "riskLevel = calculateRisk(auditCVR_check, lazyCVR_files, 'electionTabulation.csv', 'electionManifest.csv')\n",
    "print('risk level: ' + str(riskLevel))"
   ]
  },
  {
   "cell_type": "code",
   "execution_count": null,
   "id": "580c0abb-01b8-4708-8230-bec3a1fe1260",
   "metadata": {},
   "outputs": [],
   "source": []
  }
 ],
 "metadata": {
  "kernelspec": {
   "display_name": "Python 3 (ipykernel)",
   "language": "python",
   "name": "python3"
  },
  "language_info": {
   "codemirror_mode": {
    "name": "ipython",
    "version": 3
   },
   "file_extension": ".py",
   "mimetype": "text/x-python",
   "name": "python",
   "nbconvert_exporter": "python",
   "pygments_lexer": "ipython3",
   "version": "3.9.12"
  }
 },
 "nbformat": 4,
 "nbformat_minor": 5
}
