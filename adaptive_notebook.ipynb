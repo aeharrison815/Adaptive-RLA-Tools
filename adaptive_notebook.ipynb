{
 "cells": [
  {
   "cell_type": "markdown",
   "id": "666e8cf7-67d2-4d10-a8e2-435435131f64",
   "metadata": {
    "tags": []
   },
   "source": [
    "Copyright 2022 Michael Govaerts, Anike Braun, and Abigail Harrison\n",
    "\n",
    "Permission is hereby granted, free of charge, to any person obtaining a copy of this software and associated \n",
    "documentation files (the \"Software\"), to deal in the Software without restriction, including without limitation \n",
    "the rights to use, copy, modify, merge, publish, distribute, sublicense, and/or sell copies of the Software, \n",
    "and to permit persons to whom the Software is furnished to do so, subject to the following conditions:\n",
    "\n",
    "The above copyright notice and this permission notice shall be included in all copies or substantial portions\n",
    "of the Software.\n",
    "\n",
    "THE SOFTWARE IS PROVIDED \"AS IS\", WITHOUT WARRANTY OF ANY KIND, EXPRESS OR IMPLIED, INCLUDING BUT NOT LIMITED\n",
    "TO THE WARRANTIES OF MERCHANTABILITY, FITNESS FOR A PARTICULAR PURPOSE AND NONINFRINGEMENT. IN NO EVENT SHALL\n",
    "THE AUTHORS OR COPYRIGHT HOLDERS BE LIABLE FOR ANY CLAIM, DAMAGES OR OTHER LIABILITY, WHETHER IN AN ACTION OF\n",
    "CONTRACT, TORT OR OTHERWISE, ARISING FROM, OUT OF OR IN CONNECTION WITH THE SOFTWARE OR THE USE OR OTHER DEALINGS"
   ]
  },
  {
   "cell_type": "code",
   "execution_count": 1,
   "id": "956d0891",
   "metadata": {
    "tags": []
   },
   "outputs": [],
   "source": [
    "from adaptive_backend import *\n",
    "from Election_Simulation import *"
   ]
  },
  {
   "cell_type": "code",
   "execution_count": 2,
   "id": "0aae34e1-2aad-477d-8c15-4e4c5e3b1f2a",
   "metadata": {
    "scrolled": true
   },
   "outputs": [
    {
     "name": "stdout",
     "output_type": "stream",
     "text": [
      "Election setup:\n",
      "CVR1 created\n",
      "Manifest created\n",
      "CVR2 created\n",
      "Tabulation created\n"
     ]
    }
   ],
   "source": [
    "#Gathers Election data from Simulation_Input.txt to create a simulated election to audit\n",
    "#In a real audit, upload the necessary files to the directory and do not run this code block\n",
    "simulationData, margins = readInput()\n",
    "numBallots, overvotes1, undervotes1, overvotes2, undervotes2, riskLimit, num, gamma = dataToValues(simulationData)\n",
    "margin = margins[0][0]\n",
    "\n",
    "if (os.path.exists(\"2020_CT_Election_Data.json\")):\n",
    "    #Imports JSON file with election population\n",
    "    inputFile = open(os.path.join(sys.path[0], \"2020_CT_Election_Data.json\"), \"r\")\n",
    "    jsonFile = json.load(inputFile)\n",
    "    if jsonFile is None:\n",
    "        raise SyntaxError(\"Something is wrong with the JSON file. Please check it and try again.\")\n",
    "else:\n",
    "    jsonFile = None\n",
    "\n",
    "E1 = Election(numBallots, margin, overvotes1, undervotes1, overvotes2, undervotes2, riskLimit, gamma, 1, jsonFile)\n",
    "#Creates the ballot manifest, tabulation, and CVRs\n",
    "electionSetup(E1)"
   ]
  },
  {
   "cell_type": "code",
   "execution_count": 3,
   "id": "563f368a",
   "metadata": {},
   "outputs": [],
   "source": [
    "#This deletes the subdirectory of lazy_rla_cvr which is where all temporary files are stored\n",
    "#You must use this code block\n",
    "removeWorkingDir()"
   ]
  },
  {
   "cell_type": "code",
   "execution_count": 4,
   "id": "c24d216b",
   "metadata": {},
   "outputs": [
    {
     "name": "stdout",
     "output_type": "stream",
     "text": [
      "numBallots, winnerBallots, runnerupBallots, margin\n",
      "100000 52390 47610 4.780000000000001\n",
      "137 ballots to audit\n",
      "ballots selected from 126 different batches\n"
     ]
    }
   ],
   "source": [
    "#This is the first seed from dice rolling ceremony, used to select batches\n",
    "#There will be a second seed used to select ballots\n",
    "seed1 = 2368607141\n",
    "selectedBatches = batchSelect('electionManifest.csv','electionTabulation.csv', seed1)"
   ]
  },
  {
   "cell_type": "code",
   "execution_count": 5,
   "id": "463d7365",
   "metadata": {},
   "outputs": [],
   "source": [
    "#In an actual audit skip this codeblock\n",
    "#This is used to populate fake CVR files using data from 2020 Presidential election in CT\n",
    "lazyCVR_files = lazyCVR_gen(selectedBatches['batchesToAudit'])"
   ]
  },
  {
   "cell_type": "code",
   "execution_count": 6,
   "id": "477dae3a",
   "metadata": {},
   "outputs": [],
   "source": [
    "#Second seed used to select ballots. Should be independent from first dice rolling ceremony\n",
    "#Generates blank CVR files for your own interpretation. Fill them in before running the next code block.\n",
    "seed2 = 9113645654\n",
    "auditCVR_blank = ballotSelect(lazyCVR_files, selectedBatches['ballotsPerBatchAudit'], selectedBatches['ballotsPerBatchTotal'], seed2)"
   ]
  },
  {
   "cell_type": "code",
   "execution_count": 7,
   "id": "a30c03df",
   "metadata": {},
   "outputs": [
    {
     "name": "stdout",
     "output_type": "stream",
     "text": [
      "Generating files since no manual interpretation.\n"
     ]
    }
   ],
   "source": [
    "#auditCVR_check is list of files with correct 'manual interpretations' filled out\n",
    "#This step not needed in a real audit, this is to run quickly\n",
    "auditCVR_check = ballotSelect_check(lazyCVR_files, selectedBatches['ballotsPerBatchAudit'], selectedBatches['ballotsPerBatchTotal'], seed2)"
   ]
  },
  {
   "cell_type": "code",
   "execution_count": 8,
   "id": "95809537-3b3c-420f-a8ff-2df240e00423",
   "metadata": {},
   "outputs": [],
   "source": [
    "#In a real audit, set the flag = 1\n",
    "#flag = 0 creates files for interpretation, while flag = 1 means you are filling in your own interpretations\n",
    "flag = 0"
   ]
  },
  {
   "cell_type": "code",
   "execution_count": 9,
   "id": "8f809f36-f7b7-4c01-87c8-f69b97d0bd72",
   "metadata": {},
   "outputs": [
    {
     "name": "stdout",
     "output_type": "stream",
     "text": [
      "In that round, risk limit = 0.15432515473255354\n",
      "Risk limit not met in current round, starting next round.\n",
      "\n",
      "numBallots, winnerBallots, runnerupBallots, margin\n",
      "100000 52390 47610 4.780000000000001\n",
      "202 ballots to audit\n",
      "ballots selected from 176 different batches\n",
      "Generating files since no manual interpretation.\n",
      "In that round, risk limit = 0.002599079052324125\n",
      "risk limit: 0.002599079052324125\n"
     ]
    }
   ],
   "source": [
    "#Calculate risk give ballots and discrepancies\n",
    "riskLimit = 0.05 #Desired risk limit\n",
    "riskLevel = calculateRisk(auditCVR_check, lazyCVR_files, 'electionTabulation.csv', 'electionManifest.csv', riskLimit, seed1, seed2, flag)\n",
    "print('risk limit: ' + str(riskLevel))"
   ]
  }
 ],
 "metadata": {
  "kernelspec": {
   "display_name": "Python 3 (ipykernel)",
   "language": "python",
   "name": "python3"
  },
  "language_info": {
   "codemirror_mode": {
    "name": "ipython",
    "version": 3
   },
   "file_extension": ".py",
   "mimetype": "text/x-python",
   "name": "python",
   "nbconvert_exporter": "python",
   "pygments_lexer": "ipython3",
   "version": "3.9.12"
  }
 },
 "nbformat": 4,
 "nbformat_minor": 5
}
