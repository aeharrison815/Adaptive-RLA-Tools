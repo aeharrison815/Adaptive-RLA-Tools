{
 "cells": [
  {
   "cell_type": "markdown",
   "id": "17b16d22-f1f0-4b55-8787-1d1bbcf88590",
   "metadata": {},
   "source": [
    "Copyright 2022 Abigail Harrison\n",
    "\n",
    "Permission is hereby granted, free of charge, to any person obtaining a copy of this software \n",
    "and associated documentation files (the \"Software\"), to deal in the Software without restriction, \n",
    "including without limitation the rights to use, copy, modify, merge, publish, distribute, sublicense, \n",
    "and/or sell copies of the Software, and to permit persons to whom the Software is furnished to do so, \n",
    "subject to the following conditions:\n",
    "\n",
    "The above copyright notice and this permission notice shall be included in all copies or substantial \n",
    "portions of the Software.\n",
    "\n",
    "THE SOFTWARE IS PROVIDED \"AS IS\", WITHOUT WARRANTY OF ANY KIND, EXPRESS OR IMPLIED, \n",
    "INCLUDING BUT NOT LIMITED TO THE WARRANTIES OF MERCHANTABILITY, FITNESS FOR A PARTICULAR PURPOSE \n",
    "AND NONINFRINGEMENT. IN NO EVENT SHALL THE AUTHORS OR COPYRIGHT HOLDERS BE LIABLE FOR ANY CLAIM, \n",
    "DAMAGES OR OTHER LIABILITY, WHETHER IN AN ACTION OF CONTRACT, TORT OR OTHERWISE, ARISING FROM, \n",
    "OUT OF OR IN CONNECTION WITH THE SOFTWARE OR THE USE OR OTHER DEALINGS IN THE SOFTWARE."
   ]
  },
  {
   "cell_type": "code",
   "execution_count": 1,
   "id": "35b23b26-88d8-483b-868f-000250e1513f",
   "metadata": {},
   "outputs": [],
   "source": [
    "from Election_Simulation import *\n",
    "from polling_backend import *"
   ]
  },
  {
   "cell_type": "code",
   "execution_count": 2,
   "id": "82a15541-6984-4110-a3ea-9560605cfc25",
   "metadata": {},
   "outputs": [
    {
     "name": "stdout",
     "output_type": "stream",
     "text": [
      "Manifest created\n",
      "Tabulation created\n"
     ]
    }
   ],
   "source": [
    "#Gathers Election data from Simulation_Input.txt to create a simulated election to audit\n",
    "#In a real audit, upload the necessary files to the directory and do not run this code block\n",
    "simulationData, margins = readInput()\n",
    "numBallots, overvotes1, undervotes1, overvotes2, undervotes2, riskLimit, num, gamma = dataToValues(simulationData)\n",
    "margin = margins[0][0]\n",
    "\n",
    "if (os.path.exists(\"2020_CT_Election_Data.json\")):\n",
    "    #Imports JSON file with election population\n",
    "    inputFile = open(os.path.join(sys.path[0], \"2020_CT_Election_Data.json\"), \"r\")\n",
    "    jsonFile = json.load(inputFile)\n",
    "    if jsonFile is None:\n",
    "        raise SyntaxError(\"Something is wrong with the JSON file. Please check it and try again.\")\n",
    "else:\n",
    "    jsonFile = None\n",
    "\n",
    "E1 = Election(numBallots, margin, overvotes1, undervotes1, overvotes2, undervotes2, riskLimit, gamma, 1, jsonFile)\n",
    "#Creates the ballot manifest and tabulation.\n",
    "pollingSetup(E1)"
   ]
  },
  {
   "cell_type": "code",
   "execution_count": 3,
   "id": "b6fad8de-cc92-4aee-bed1-5253a5ec01a5",
   "metadata": {},
   "outputs": [],
   "source": [
    "#Seed from the seed dice rolling ceremony. This is used to select ballots to audit\n",
    "seed = 2368607141"
   ]
  },
  {
   "cell_type": "code",
   "execution_count": 4,
   "id": "e64f1ec4-5e84-49e5-8c9b-7c885fcfb0cb",
   "metadata": {},
   "outputs": [
    {
     "name": "stdout",
     "output_type": "stream",
     "text": [
      "Ballots to audit this round: 2527\n",
      "Making ballot pull sheets now.\n",
      "After sampling, there are 2488 ballots to pull. Check ballot_polling_pull_list folder for the list of ballots.\n"
     ]
    },
    {
     "name": "stdin",
     "output_type": "stream",
     "text": [
      "Please enter the number of winner ballots:  2000\n",
      "Please enter the number of runnerup ballots:  488\n"
     ]
    },
    {
     "name": "stdout",
     "output_type": "stream",
     "text": [
      "Audit complete. You may stop auditing. Observed risk limit =  0.003254670732036218\n"
     ]
    }
   ],
   "source": [
    "#Reads in data from the tabulation and ballot manifest\n",
    "numBallots, winnerBallots, runnerupBallots, tabulation_file, manifest_file = readFiles()\n",
    "T = 1 #Test statistic for ballot polling risk limit\n",
    "#Continues running rounds until risk limit is met\n",
    "while True:\n",
    "    #Calculate a sample size\n",
    "    sampleSize = roundSample(numBallots, winnerBallots, runnerupBallots)\n",
    "    #Select the ballots from the sample size\n",
    "    ballotSelect(sampleSize, seed, manifest_file)\n",
    "    #Enter the number of Winner ballots and Runnerup ballots observed in the sample\n",
    "    sampledWinner, sampledRunnerup = roundInput()\n",
    "    sampledWinner = int(sampledWinner)\n",
    "    sampledRunnerup = int(sampledRunnerup)\n",
    "    #Calculate the observed risk limit\n",
    "    sw = winnerBallots/numBallots\n",
    "    T = calculateRisk(sw, T, sampledWinner, sampledRunnerup)\n",
    "    #Determine if more auditing is necessary\n",
    "    if (T >= 1/E1.riskLimit):\n",
    "        print(\"Audit complete. You may stop auditing. Observed risk limit = \", 1/T)\n",
    "        break\n",
    "    elif (1/T > 1): #How to actually get this value?\n",
    "        raise ValueError(\"A full hand recount is necessary to determine the winner.\")\n",
    "    else:\n",
    "        print(\"Another round is necessary. Observed risk limit for the round =\", 1/T)\n",
    "        winnerBallots = sampledWinner\n",
    "        runnerupBallots = sampledRunnerup\n",
    "        numBallots = sampleSize"
   ]
  }
 ],
 "metadata": {
  "kernelspec": {
   "display_name": "Python 3 (ipykernel)",
   "language": "python",
   "name": "python3"
  },
  "language_info": {
   "codemirror_mode": {
    "name": "ipython",
    "version": 3
   },
   "file_extension": ".py",
   "mimetype": "text/x-python",
   "name": "python",
   "nbconvert_exporter": "python",
   "pygments_lexer": "ipython3",
   "version": "3.9.12"
  }
 },
 "nbformat": 4,
 "nbformat_minor": 5
}
